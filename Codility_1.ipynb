{
  "nbformat": 4,
  "nbformat_minor": 0,
  "metadata": {
    "colab": {
      "provenance": [],
      "authorship_tag": "ABX9TyNfHDzc+Ov5gCVNPsO0CeKT",
      "include_colab_link": true
    },
    "kernelspec": {
      "name": "python3",
      "display_name": "Python 3"
    },
    "language_info": {
      "name": "python"
    }
  },
  "cells": [
    {
      "cell_type": "markdown",
      "metadata": {
        "id": "view-in-github",
        "colab_type": "text"
      },
      "source": [
        "<a href=\"https://colab.research.google.com/github/humazafar2703/Assignment3_Python/blob/main/Codility_1.ipynb\" target=\"_parent\"><img src=\"https://colab.research.google.com/assets/colab-badge.svg\" alt=\"Open In Colab\"/></a>"
      ]
    },
    {
      "cell_type": "code",
      "execution_count": 15,
      "metadata": {
        "colab": {
          "base_uri": "https://localhost:8080/"
        },
        "id": "wWQmI7YiI3j6",
        "outputId": "f943ce66-5f71-4106-ff14-bd563fcfc3c5"
      },
      "outputs": [
        {
          "output_type": "stream",
          "name": "stdout",
          "text": [
            "B  A 1\n",
            "B  A 2\n",
            "B  A 2\n",
            "B  A 3\n",
            "B  A 3\n",
            "B  A 3\n",
            "B  A 4\n",
            "B  A 4\n",
            "B  A 4\n",
            "B  A 4\n"
          ]
        }
      ],
      "source": [
        "for i in range(1, 5):\n",
        "  for j in range(i):\n",
        "     print (\"B\", \"\", \"A\",  i)\n",
        "  print"
      ]
    },
    {
      "cell_type": "markdown",
      "source": [
        "Given a signed 32-bit integer x, return x with its digits reversed. If reversing x causes the value to go outside the signed 32-bit integer range [-231, 231 - 1], then return 0.\n",
        "\n",
        "Assume the environment does not allow you to store 64-bit integers (signed or unsigned)."
      ],
      "metadata": {
        "id": "6dpD11vn-cTL"
      }
    },
    {
      "cell_type": "code",
      "source": [
        "def reverse(x):\n",
        "    # Define constants for 32-bit integer limits\n",
        "    INT_MAX = 2**31 - 1\n",
        "    INT_MIN = -2**31\n",
        "\n",
        "    # Initialize the result\n",
        "    result = 0\n",
        "\n",
        "    # Handle negative numbers by remembering the sign\n",
        "    sign = 1 if x > 0 else -1\n",
        "    x = abs(x)\n",
        "\n",
        "    while x != 0:\n",
        "        # Pop the last digit using modulo\n",
        "        pop = x % 10\n",
        "        x //= 10\n",
        "\n",
        "        # Check for integer overflow\n",
        "        if result > INT_MAX // 10 or (result == INT_MAX // 10 and pop > 7):\n",
        "            return 0\n",
        "        if result < INT_MIN // 10 or (result == INT_MIN // 10 and pop < -8):\n",
        "            return 0\n",
        "\n",
        "        # Push the popped digit to the result\n",
        "        result = result * 10 + pop\n",
        "\n",
        "    # Restore the sign\n",
        "    result *= sign\n",
        "\n",
        "    return result\n",
        "\n",
        "# Example usage:\n",
        "x1 = 123\n",
        "x2 = -123\n",
        "x3 = 120\n",
        "\n",
        "print(reverse(x1))  # Output: 321\n",
        "print(reverse(x2))  # Output: -321\n",
        "print(reverse(x3))  # Output: 21\n"
      ],
      "metadata": {
        "colab": {
          "base_uri": "https://localhost:8080/"
        },
        "id": "w6f32soBk2yb",
        "outputId": "c168ed79-b4b8-4b80-9244-0f4516c456a9"
      },
      "execution_count": 16,
      "outputs": [
        {
          "output_type": "stream",
          "name": "stdout",
          "text": [
            "321\n",
            "-321\n",
            "21\n"
          ]
        }
      ]
    },
    {
      "cell_type": "markdown",
      "source": [
        "A message containing letters from A-Z can be encoded into numbers using the following mapping:\n",
        "\n",
        "'A' -> \"1\"\n",
        "'B' -> \"2\"\n",
        "...\n",
        "'Z' -> \"26\"\n",
        "To decode an encoded message, all the digits must be grouped then mapped back into letters using the reverse of the mapping above (there may be multiple ways). For example, \"11106\" can be mapped into:\n",
        "\n",
        "\"AAJF\" with the grouping (1 1 10 6)\n",
        "\"KJF\" with the grouping (11 10 6)\n",
        "Note that the grouping (1 11 06) is invalid because \"06\" cannot be mapped into 'F' since \"6\" is different from \"06\".\n",
        "\n",
        "Given a string s containing only digits, return the number of ways to decode it.\n",
        "\n",
        "The test cases are generated so that the answer fits in a 32-bit integer."
      ],
      "metadata": {
        "id": "yMyq2kNJ-r-R"
      }
    },
    {
      "cell_type": "code",
      "source": [
        "def numDecodings(s):\n",
        "    n = len(s)\n",
        "\n",
        "    # Initialize a list to store the number of ways to decode the string up to each position\n",
        "    dp = [0] * (n + 1)\n",
        "\n",
        "    # There's only one way to decode an empty string\n",
        "    dp[0] = 1\n",
        "\n",
        "    # Check each character in the string\n",
        "    for i in range(1, n + 1):\n",
        "        # If the current character is not '0', it can be decoded as a single letter ('A' to 'Z')\n",
        "        if s[i - 1] != '0':\n",
        "            dp[i] += dp[i - 1]\n",
        "\n",
        "        # If the current character and the previous character form a valid two-digit number ('10' to '26')\n",
        "        if i > 1 and '10' <= s[i - 2:i] <= '26':\n",
        "            dp[i] += dp[i - 2]\n",
        "\n",
        "    return dp[n]\n",
        "\n",
        "# Example usage:\n",
        "encoded_message = \"11106\"\n",
        "ways_to_decode = numDecodings(encoded_message)\n",
        "print(ways_to_decode)  # Output: 2\n"
      ],
      "metadata": {
        "colab": {
          "base_uri": "https://localhost:8080/"
        },
        "id": "X2B2f-lE-mBe",
        "outputId": "83cb5a60-2050-4c31-9526-8f68e2d6b98d"
      },
      "execution_count": 17,
      "outputs": [
        {
          "output_type": "stream",
          "name": "stdout",
          "text": [
            "2\n"
          ]
        }
      ]
    },
    {
      "cell_type": "markdown",
      "source": [
        "Given a string s containing just the characters '(', ')', '{', '}', '[' and ']', determine if the input string is valid.\n",
        "\n",
        "An input string is valid if:\n",
        "\n",
        "Open brackets must be closed by the same type of brackets.\n",
        "Open brackets must be closed in the correct order.\n",
        "Every close bracket has a corresponding open bracket of the same type."
      ],
      "metadata": {
        "id": "caPkLg7_-3ZS"
      }
    },
    {
      "cell_type": "code",
      "source": [
        "def isValid(s):\n",
        "    stack = []  # Initialize an empty stack to keep track of opening brackets\n",
        "\n",
        "    # Define a dictionary to map closing brackets to their corresponding opening brackets\n",
        "    bracket_mapping = {')': '(', '}': '{', ']': '['}\n",
        "\n",
        "    # Iterate through each character in the string\n",
        "    for char in s:\n",
        "        if char in bracket_mapping:  # If the character is a closing bracket\n",
        "            top_element = stack.pop() if stack else '#'  # Pop the top element from the stack if it's not empty\n",
        "            if top_element != bracket_mapping[char]:  # Check if it matches the corresponding opening bracket\n",
        "                return False\n",
        "        else:\n",
        "            stack.append(char)  # If the character is an opening bracket, push it onto the stack\n",
        "\n",
        "    return not stack  # The string is valid if the stack is empty at the end\n",
        "\n",
        "# Example usage:\n",
        "input_string = \"{[()]}\"\n",
        "\n",
        "if isValid(input_string):\n",
        "    print(\"Valid\")\n",
        "else:\n",
        "    print(\"Invalid\")\n"
      ],
      "metadata": {
        "colab": {
          "base_uri": "https://localhost:8080/"
        },
        "id": "pjlN5-mY-_Kj",
        "outputId": "39dfb156-b4a7-419a-9bf1-b8daf54ee899"
      },
      "execution_count": 18,
      "outputs": [
        {
          "output_type": "stream",
          "name": "stdout",
          "text": [
            "Valid\n"
          ]
        }
      ]
    },
    {
      "cell_type": "markdown",
      "source": [
        "Convert a non-negative integer num to its English words representation."
      ],
      "metadata": {
        "id": "yxt-6s3F_DrO"
      }
    },
    {
      "cell_type": "code",
      "source": [
        "class Solution(object):\n",
        "    def numberToWords(self, num):\n",
        "        \"\"\"\n",
        "        :type num: int\n",
        "        :rtype: str\n",
        "        \"\"\"\n",
        "        if num == 0:\n",
        "            return \"Zero\"\n",
        "\n",
        "        def one(num):\n",
        "            switcher = {\n",
        "                1: \"One\",\n",
        "                2: \"Two\",\n",
        "                3: \"Three\",\n",
        "                4: \"Four\",\n",
        "                5: \"Five\",\n",
        "                6: \"Six\",\n",
        "                7: \"Seven\",\n",
        "                8: \"Eight\",\n",
        "                9: \"Nine\"\n",
        "            }\n",
        "            return switcher.get(num)\n",
        "\n",
        "        def two_less_20(num):\n",
        "            switcher = {\n",
        "                10: \"Ten\",\n",
        "                11: \"Eleven\",\n",
        "                12: \"Twelve\",\n",
        "                13: \"Thirteen\",\n",
        "                14: \"Fourteen\",\n",
        "                15: \"Fifteen\",\n",
        "                16: \"Sixteen\",\n",
        "                17: \"Seventeen\",\n",
        "                18: \"Eighteen\",\n",
        "                19: \"Nineteen\"\n",
        "            }\n",
        "            return switcher.get(num)\n",
        "\n",
        "        def ten(num):\n",
        "            switcher = {\n",
        "                2: \"Twenty\",\n",
        "                3: \"Thirty\",\n",
        "                4: \"Forty\",\n",
        "                5: \"Fifty\",\n",
        "                6: \"Sixty\",\n",
        "                7: \"Seventy\",\n",
        "                8: \"Eighty\",\n",
        "                9: \"Ninety\"\n",
        "            }\n",
        "            return switcher.get(num)\n",
        "\n",
        "        def two(num):\n",
        "            if not num:\n",
        "                return ''\n",
        "            elif num < 10:\n",
        "                return one(num)\n",
        "            elif num < 20:\n",
        "                return two_less_20(num)\n",
        "            else:\n",
        "                tenner = num // 10\n",
        "                rest = num - tenner * 10\n",
        "                return ten(tenner) + ' ' + one(rest) if rest else ten(tenner)\n",
        "\n",
        "        def three(num):\n",
        "            hundred = num // 100\n",
        "            rest = num - hundred * 100\n",
        "            if hundred and rest:\n",
        "                return one(hundred) + \" Hundred \" + two(rest)\n",
        "            elif not hundred and rest:\n",
        "                return two(rest)\n",
        "            elif hundred and not rest:\n",
        "                return one(hundred) + \" Hundred\"\n",
        "\n",
        "        billion = num // 1000000000\n",
        "        million = (num - billion * 1000000000) // 1000000\n",
        "        thousand = (num - billion * 1000000000 - million * 1000000) // 1000\n",
        "        remainder = num - billion * 1000000000 - million * 1000000 - thousand * 1000\n",
        "\n",
        "        result = \"\"\n",
        "        if billion:\n",
        "            result += three(billion) + \" Billion\"\n",
        "        if million:\n",
        "            if result:\n",
        "                result += \" \"\n",
        "            result += three(million) + \" Million\"\n",
        "        if thousand:\n",
        "            if result:\n",
        "                result += \" \"\n",
        "            result += three(thousand) + \" Thousand\"\n",
        "        if remainder:\n",
        "            if result:\n",
        "                result += \" \"\n",
        "            result += three(remainder)\n",
        "\n",
        "        return result\n"
      ],
      "metadata": {
        "id": "1QffX2rD_Ljx"
      },
      "execution_count": 19,
      "outputs": []
    },
    {
      "cell_type": "markdown",
      "source": [
        "The Fibonacci numbers, commonly denoted F(n) form a sequence, called the Fibonacci sequence, such that each number is the sum of the two preceding ones, starting from 0 and 1. That is,\n",
        "\n",
        "F(0) = 0, F(1) = 1\n",
        "F(n) = F(n - 1) + F(n - 2), for n > 1.\n",
        "Given n, calculate F(n)."
      ],
      "metadata": {
        "id": "Ke-RkqkY_jir"
      }
    },
    {
      "cell_type": "code",
      "source": [
        "class Solution(object):\n",
        "    def fib(self, n):\n",
        "        if n <= 1:\n",
        "            return n\n",
        "        else:\n",
        "            fib = [0, 1]\n",
        "            for i in range(2, n + 1):\n",
        "                fib.append(fib[i - 1] + fib[i - 2])\n",
        "            return fib[n]\n"
      ],
      "metadata": {
        "id": "CXlvDexz-_Us"
      },
      "execution_count": 21,
      "outputs": []
    },
    {
      "cell_type": "markdown",
      "source": [
        "class Solution(object): - This line defines a Python class named Solution. Think of a class as a blueprint for creating objects with certain behaviors and properties.\n",
        "\n",
        "def fib(self, n): - Inside the Solution class, we have a function (or method) called fib. This method takes an input n, which represents the position of the Fibonacci number you want to calculate.\n",
        "\n",
        "if n <= 1: - This line checks if n is less than or equal to 1. If it is, we return n. This is because the Fibonacci sequence starts with F(0) = 0 and F(1) = 1, so we return n when it's 0 or 1.\n",
        "\n",
        "else: - If n is greater than 1, we enter this block of code.\n",
        "\n",
        "fib = [0, 1] - We create a list called fib with the initial values of the Fibonacci sequence, 0 and 1. This list will be used to store the Fibonacci numbers as we calculate them.\n",
        "\n",
        "for i in range(2, n + 1): - We start a loop that goes from 2 to n, inclusive. This loop calculates the Fibonacci numbers from the third number onwards up to n.\n",
        "\n",
        "fib.append(fib[i - 1] + fib[i - 2]) - Inside the loop, we calculate each Fibonacci number by adding the two previous numbers in the fib list. We then append this new number to the fib list.\n",
        "\n",
        "return fib[n] - Finally, we return the Fibonacci number at position n, which is the one we calculated in the loop.\n",
        "\n",
        "In simple terms, this code defines a method fib in a class called Solution that can calculate the n-th Fibonacci number using a list to store the numbers as it calculates them. If n is 0 or 1, it returns n, and for larger values of n, it calculates the Fibonacci number using the recurrence relation and returns the result."
      ],
      "metadata": {
        "id": "kbVQz8Xv_v0h"
      }
    }
  ]
}