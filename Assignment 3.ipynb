{
 "cells": [
  {
   "cell_type": "markdown",
   "id": "3cb38211",
   "metadata": {},
   "source": [
    "# Q 1. Twinkle litte star"
   ]
  },
  {
   "cell_type": "code",
   "execution_count": 1,
   "id": "10ac085b",
   "metadata": {},
   "outputs": [
    {
     "name": "stdout",
     "output_type": "stream",
     "text": [
      "Twinkle, twinkle, little star, \n",
      "\tHow I wonder what you are! \n",
      "\t\tUp above the world so high, \n",
      "\t\tLike a diamond in the sky. \n",
      "Twinkle, twinkle, little star, \n",
      "\tHow I wonder what you are\n"
     ]
    }
   ],
   "source": [
    "print(\"Twinkle, twinkle, little star, \\n\\tHow I wonder what you are! \\n\\t\\tUp above the world so high, \\n\\t\\tLike a diamond in the sky. \\nTwinkle, twinkle, little star, \\n\\tHow I wonder what you are\")  \n"
   ]
  },
  {
   "cell_type": "markdown",
   "id": "90fd9e61",
   "metadata": {},
   "source": [
    "# 2. Write a Python program to get the Python version you are using \n"
   ]
  },
  {
   "cell_type": "code",
   "execution_count": 2,
   "id": "93b5cba0",
   "metadata": {},
   "outputs": [],
   "source": [
    "import platform"
   ]
  },
  {
   "cell_type": "code",
   "execution_count": 3,
   "id": "513d61a6",
   "metadata": {},
   "outputs": [
    {
     "data": {
      "text/plain": [
       "'3.8.8'"
      ]
     },
     "execution_count": 3,
     "metadata": {},
     "output_type": "execute_result"
    }
   ],
   "source": [
    "platform.python_version()\n"
   ]
  },
  {
   "cell_type": "markdown",
   "id": "f4b584cf",
   "metadata": {},
   "source": [
    "# 3. Write a Python program to display the current date and time. \n"
   ]
  },
  {
   "cell_type": "code",
   "execution_count": 4,
   "id": "a1e84f4c",
   "metadata": {},
   "outputs": [],
   "source": [
    "import datetime"
   ]
  },
  {
   "cell_type": "code",
   "execution_count": 5,
   "id": "848bd0c4",
   "metadata": {},
   "outputs": [],
   "source": [
    "now = datetime.datetime.now()"
   ]
  },
  {
   "cell_type": "code",
   "execution_count": 8,
   "id": "b55e2753",
   "metadata": {
    "scrolled": true
   },
   "outputs": [
    {
     "name": "stdout",
     "output_type": "stream",
     "text": [
      "Current date and time : \n",
      "2021-10-24 14:22:59\n"
     ]
    }
   ],
   "source": [
    "print (\"Current date and time : \")\n",
    "print (now.strftime(\"%Y-%m-%d %H:%M:%S\"))\n"
   ]
  },
  {
   "cell_type": "markdown",
   "id": "f5d371e9",
   "metadata": {},
   "source": [
    "# . Write a Python program which accepts the radius of a circle from the user and compute the area."
   ]
  },
  {
   "cell_type": "code",
   "execution_count": 9,
   "id": "5cc2aa6d",
   "metadata": {},
   "outputs": [
    {
     "name": "stdout",
     "output_type": "stream",
     "text": [
      "Input the radius of the circle : 1\n",
      "The area of the circle with radius 1.0 is: 3.141592653589793\n"
     ]
    }
   ],
   "source": [
    "from math import pi\n",
    "radius = float(input (\"Input the radius of the circle : \"))\n",
    "print (\"The area of the circle with radius \" + str(radius) + \" is: \" + str(pi * radius**2))\n",
    "\n"
   ]
  },
  {
   "cell_type": "markdown",
   "id": "7ffd8f5b",
   "metadata": {},
   "source": [
    "# 5. Write a Python program which accepts the user's first and last name and print them in reverse order with a space between them \n"
   ]
  },
  {
   "cell_type": "code",
   "execution_count": 10,
   "id": "a9ad22f9",
   "metadata": {},
   "outputs": [
    {
     "name": "stdout",
     "output_type": "stream",
     "text": [
      "Input your First Name : huma\n",
      "Input your Last Name : zafar\n",
      "Hello  zafar huma\n"
     ]
    }
   ],
   "source": [
    "first_name = input(\"Input your First Name : \")\n",
    "last_name = input(\"Input your Last Name : \")\n",
    "print (\"Hello  \" + last_name + \" \" + first_name)\n"
   ]
  },
  {
   "cell_type": "markdown",
   "id": "5dfed2c1",
   "metadata": {},
   "source": [
    "# 6. Write a python program which takes two inputs from user and print them addition \n"
   ]
  },
  {
   "cell_type": "code",
   "execution_count": 11,
   "id": "fc168f7f",
   "metadata": {},
   "outputs": [
    {
     "name": "stdout",
     "output_type": "stream",
     "text": [
      "Enter first number: 1\n",
      "Enter second number: 3\n",
      "The sum of 1 and 3 is 4.0\n"
     ]
    }
   ],
   "source": [
    "# Store input numbers\n",
    "num1 = input('Enter first number: ')\n",
    "num2 = input('Enter second number: ')\n",
    "\n",
    "# Add two numbers\n",
    "sum = float(num1) + float(num2)\n",
    "\n",
    "# Display the sum\n",
    "print('The sum of {0} and {1} is {2}'.format(num1, num2, sum))"
   ]
  },
  {
   "cell_type": "markdown",
   "id": "4da816e9",
   "metadata": {},
   "source": [
    "# 7. Write a program which takes 5 inputs from user for different subject’s marks, total it and generate mark sheet using grades ? \n"
   ]
  },
  {
   "cell_type": "code",
   "execution_count": 12,
   "id": "c3af2260",
   "metadata": {},
   "outputs": [
    {
     "name": "stdout",
     "output_type": "stream",
     "text": [
      "Please enter English Marks: 12\n",
      "Please enter Math score: 45\n",
      "Please enter Urdu Marks: 34\n",
      "Please enter Physics Marks: 23\n",
      "Please enter Chemistry Marks: 43\n",
      "\n",
      "Total Marks = 157.00\n",
      "Average Marks = 31.40\n",
      "Marks Percentage = 31.40\n"
     ]
    }
   ],
   "source": [
    "  \n",
    "english = float(input(\"Please enter English Marks: \"))\n",
    "math = float(input(\"Please enter Math score: \"))\n",
    "urdu = float(input(\"Please enter Urdu Marks: \"))\n",
    "physics = float(input(\"Please enter Physics Marks: \"))\n",
    "chemistry = float(input(\"Please enter Chemistry Marks: \"))\n",
    " \n",
    "total = english + math + urdu + physics + chemistry\n",
    "average = total / 5\n",
    "percentage = (total / 500) * 100\n",
    " \n",
    "print(\"\\nTotal Marks = %.2f\"  %total)\n",
    "print(\"Average Marks = %.2f\"  %average)\n",
    "print(\"Marks Percentage = %.2f\"  %percentage)"
   ]
  },
  {
   "cell_type": "markdown",
   "id": "c7a50b1c",
   "metadata": {},
   "source": [
    "# 8.Write a program which take input from user and identify that the given number is even or odd"
   ]
  },
  {
   "cell_type": "code",
   "execution_count": 13,
   "id": "b6ac9fed",
   "metadata": {},
   "outputs": [
    {
     "name": "stdout",
     "output_type": "stream",
     "text": [
      "Enter a number: 2\n",
      "This is an even number.\n"
     ]
    }
   ],
   "source": [
    "num = int(input(\"Enter a number: \"))\n",
    "mod = num % 2\n",
    "if mod > 0:\n",
    "    print(\"This is an odd number.\")\n",
    "else:\n",
    "    print(\"This is an even number.\")"
   ]
  },
  {
   "cell_type": "markdown",
   "id": "bc6702d5",
   "metadata": {},
   "source": [
    "# 9. Write a program which print the length of the list?\n"
   ]
  },
  {
   "cell_type": "code",
   "execution_count": null,
   "id": "8e289f46",
   "metadata": {},
   "outputs": [],
   "source": [
    "list =[]\n",
    "print(len(list))\n"
   ]
  },
  {
   "cell_type": "markdown",
   "id": "3220783d",
   "metadata": {},
   "source": [
    "# 10.Write a Python program to sum all the numeric items in a list?\n"
   ]
  },
  {
   "cell_type": "code",
   "execution_count": 14,
   "id": "8524cd18",
   "metadata": {},
   "outputs": [
    {
     "name": "stdout",
     "output_type": "stream",
     "text": [
      "Enter a list element separated by space a\n"
     ]
    },
    {
     "ename": "ValueError",
     "evalue": "invalid literal for int() with base 10: 'a'",
     "output_type": "error",
     "traceback": [
      "\u001b[1;31m---------------------------------------------------------------------------\u001b[0m",
      "\u001b[1;31mValueError\u001b[0m                                Traceback (most recent call last)",
      "\u001b[1;32m<ipython-input-14-7b4ee748aadd>\u001b[0m in \u001b[0;36m<module>\u001b[1;34m\u001b[0m\n\u001b[0;32m      6\u001b[0m \u001b[1;31m# Iterate each element in a list\u001b[0m\u001b[1;33m\u001b[0m\u001b[1;33m\u001b[0m\u001b[1;33m\u001b[0m\u001b[0m\n\u001b[0;32m      7\u001b[0m \u001b[1;32mfor\u001b[0m \u001b[0mnum\u001b[0m \u001b[1;32min\u001b[0m \u001b[0mlistRange\u001b[0m\u001b[1;33m:\u001b[0m\u001b[1;33m\u001b[0m\u001b[1;33m\u001b[0m\u001b[0m\n\u001b[1;32m----> 8\u001b[1;33m     \u001b[0mtotal\u001b[0m \u001b[1;33m+=\u001b[0m \u001b[0mint\u001b[0m \u001b[1;33m(\u001b[0m\u001b[0mnum\u001b[0m\u001b[1;33m)\u001b[0m\u001b[1;33m\u001b[0m\u001b[1;33m\u001b[0m\u001b[0m\n\u001b[0m\u001b[0;32m      9\u001b[0m \u001b[1;33m\u001b[0m\u001b[0m\n\u001b[0;32m     10\u001b[0m \u001b[1;31m# Get total value\u001b[0m\u001b[1;33m\u001b[0m\u001b[1;33m\u001b[0m\u001b[1;33m\u001b[0m\u001b[0m\n",
      "\u001b[1;31mValueError\u001b[0m: invalid literal for int() with base 10: 'a'"
     ]
    }
   ],
   "source": [
    "input_string = input(\"Enter a list element separated by space \")\n",
    "listRange  = input_string.split()\n",
    "\n",
    "total = 0\n",
    "\n",
    "# Iterate each element in a list\n",
    "for num in listRange:\n",
    "    total += int (num)\n",
    "\n",
    "# Get total value    \n",
    "print(\"Sum of all elements in the list = \",total)"
   ]
  },
  {
   "cell_type": "markdown",
   "id": "a40ea767",
   "metadata": {},
   "source": [
    "# 11.Write a Python program to get the largest number from a numeric list.\n"
   ]
  },
  {
   "cell_type": "code",
   "execution_count": 16,
   "id": "c2d88e2a",
   "metadata": {},
   "outputs": [
    {
     "name": "stdout",
     "output_type": "stream",
     "text": [
      "241\n"
     ]
    }
   ],
   "source": [
    "def max_num_in_list( list ):\n",
    "    max = list[ 0 ]\n",
    "    for a in list:\n",
    "        if a > max:\n",
    "            max = a\n",
    "    return max\n",
    "print(max_num_in_list([1, 1, 2, 3, 25, 28, 123, 241, 234, 155, 99]))\n"
   ]
  },
  {
   "cell_type": "markdown",
   "id": "407692eb",
   "metadata": {},
   "source": [
    "# 12. Take a list, say for example this one:\n",
    "a = [1, 1, 2, 3, 5, 8, 13, 21, 34, 55, 89]\n",
    "Write a program that prints out all the elements of the list that are less than 5."
   ]
  },
  {
   "cell_type": "code",
   "execution_count": 18,
   "id": "bf86da2f",
   "metadata": {},
   "outputs": [
    {
     "name": "stdout",
     "output_type": "stream",
     "text": [
      "[1, 1, 2, 3]\n"
     ]
    }
   ],
   "source": [
    "def elements_lessthan_five(l): \n",
    "    l1=[] \n",
    "    for i in l: \n",
    "        if i<5: \n",
    "            l1.append(i) \n",
    "             \n",
    "    return(l1) \n",
    "     \n",
    "print(elements_lessthan_five([1, 1, 2, 3, 5, 8, 13, 21, 34, 55, 89])) "
   ]
  },
  {
   "cell_type": "code",
   "execution_count": null,
   "id": "f68e171f",
   "metadata": {},
   "outputs": [],
   "source": []
  },
  {
   "cell_type": "code",
   "execution_count": null,
   "id": "97e9dc1a",
   "metadata": {},
   "outputs": [],
   "source": []
  }
 ],
 "metadata": {
  "kernelspec": {
   "display_name": "Python 3",
   "language": "python",
   "name": "python3"
  },
  "language_info": {
   "codemirror_mode": {
    "name": "ipython",
    "version": 3
   },
   "file_extension": ".py",
   "mimetype": "text/x-python",
   "name": "python",
   "nbconvert_exporter": "python",
   "pygments_lexer": "ipython3",
   "version": "3.8.8"
  }
 },
 "nbformat": 4,
 "nbformat_minor": 5
}
